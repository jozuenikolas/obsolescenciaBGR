{
 "cells": [
  {
   "cell_type": "markdown",
   "id": "8323a82a",
   "metadata": {},
   "source": [
    "<h1 style=\"text-align:center;\">PREPROCESAMIENTO DE LA DATA</h1>"
   ]
  },
  {
   "cell_type": "code",
   "execution_count": 43,
   "id": "d24aff7f",
   "metadata": {},
   "outputs": [],
   "source": [
    "import pandas as pd\n",
    "import pyodbc"
   ]
  },
  {
   "cell_type": "markdown",
   "id": "56879c53",
   "metadata": {},
   "source": [
    "<h4>Paso 1: Obtener la data desde un archivo excel</h4>"
   ]
  },
  {
   "cell_type": "code",
   "execution_count": 44,
   "id": "6e4b0575",
   "metadata": {},
   "outputs": [],
   "source": [
    "dfHardware = pd.read_excel('hardwareSample.xlsx', index_col=0)  "
   ]
  },
  {
   "cell_type": "code",
   "execution_count": 45,
   "id": "c60dffec",
   "metadata": {},
   "outputs": [
    {
     "data": {
      "text/html": [
       "<div>\n",
       "<style scoped>\n",
       "    .dataframe tbody tr th:only-of-type {\n",
       "        vertical-align: middle;\n",
       "    }\n",
       "\n",
       "    .dataframe tbody tr th {\n",
       "        vertical-align: top;\n",
       "    }\n",
       "\n",
       "    .dataframe thead th {\n",
       "        text-align: right;\n",
       "    }\n",
       "</style>\n",
       "<table border=\"1\" class=\"dataframe\">\n",
       "  <thead>\n",
       "    <tr style=\"text-align: right;\">\n",
       "      <th></th>\n",
       "      <th>NombreDispositivo</th>\n",
       "      <th>Version</th>\n",
       "      <th>idTipoHardware</th>\n",
       "      <th>fechaInicioSoporte</th>\n",
       "      <th>fechaFinSoporte</th>\n",
       "      <th>vidaUtil</th>\n",
       "    </tr>\n",
       "    <tr>\n",
       "      <th>idHardware</th>\n",
       "      <th></th>\n",
       "      <th></th>\n",
       "      <th></th>\n",
       "      <th></th>\n",
       "      <th></th>\n",
       "      <th></th>\n",
       "    </tr>\n",
       "  </thead>\n",
       "  <tbody>\n",
       "    <tr>\n",
       "      <th>1</th>\n",
       "      <td>dispositivo 1</td>\n",
       "      <td>3</td>\n",
       "      <td>1</td>\n",
       "      <td>1995-02-20</td>\n",
       "      <td>2022-02-20</td>\n",
       "      <td>4</td>\n",
       "    </tr>\n",
       "    <tr>\n",
       "      <th>2</th>\n",
       "      <td>dispositivo 2</td>\n",
       "      <td>4</td>\n",
       "      <td>2</td>\n",
       "      <td>1996-02-20</td>\n",
       "      <td>2023-02-20</td>\n",
       "      <td>5</td>\n",
       "    </tr>\n",
       "    <tr>\n",
       "      <th>3</th>\n",
       "      <td>dispositivo 3</td>\n",
       "      <td>5</td>\n",
       "      <td>1</td>\n",
       "      <td>1997-02-20</td>\n",
       "      <td>2024-02-20</td>\n",
       "      <td>6</td>\n",
       "    </tr>\n",
       "    <tr>\n",
       "      <th>4</th>\n",
       "      <td>dispositivo 4</td>\n",
       "      <td>6</td>\n",
       "      <td>2</td>\n",
       "      <td>1998-02-20</td>\n",
       "      <td>2025-02-20</td>\n",
       "      <td>7</td>\n",
       "    </tr>\n",
       "    <tr>\n",
       "      <th>5</th>\n",
       "      <td>dispositivo 5</td>\n",
       "      <td>7</td>\n",
       "      <td>1</td>\n",
       "      <td>1999-02-20</td>\n",
       "      <td>2026-02-20</td>\n",
       "      <td>8</td>\n",
       "    </tr>\n",
       "  </tbody>\n",
       "</table>\n",
       "</div>"
      ],
      "text/plain": [
       "           NombreDispositivo  Version  idTipoHardware fechaInicioSoporte  \\\n",
       "idHardware                                                                 \n",
       "1              dispositivo 1        3               1         1995-02-20   \n",
       "2              dispositivo 2        4               2         1996-02-20   \n",
       "3              dispositivo 3        5               1         1997-02-20   \n",
       "4              dispositivo 4        6               2         1998-02-20   \n",
       "5              dispositivo 5        7               1         1999-02-20   \n",
       "\n",
       "           fechaFinSoporte  vidaUtil  \n",
       "idHardware                            \n",
       "1               2022-02-20         4  \n",
       "2               2023-02-20         5  \n",
       "3               2024-02-20         6  \n",
       "4               2025-02-20         7  \n",
       "5               2026-02-20         8  "
      ]
     },
     "execution_count": 45,
     "metadata": {},
     "output_type": "execute_result"
    }
   ],
   "source": [
    "dfHardware"
   ]
  },
  {
   "cell_type": "markdown",
   "id": "0522e322",
   "metadata": {},
   "source": [
    "<h4>Paso 2: Limpiar la data</h4>"
   ]
  },
  {
   "cell_type": "code",
   "execution_count": null,
   "id": "6ce37832",
   "metadata": {},
   "outputs": [],
   "source": []
  },
  {
   "cell_type": "code",
   "execution_count": null,
   "id": "06e446b5",
   "metadata": {},
   "outputs": [],
   "source": []
  },
  {
   "cell_type": "code",
   "execution_count": null,
   "id": "ac3dc0f0",
   "metadata": {},
   "outputs": [],
   "source": []
  },
  {
   "cell_type": "markdown",
   "id": "c9e22e97",
   "metadata": {},
   "source": [
    "<h4>Paso 3: Insertar la data en SQL Server</h4>"
   ]
  },
  {
   "cell_type": "markdown",
   "id": "b5e0f49a",
   "metadata": {},
   "source": [
    "##### Cadena de conexion"
   ]
  },
  {
   "cell_type": "code",
   "execution_count": 51,
   "id": "af7917ac",
   "metadata": {},
   "outputs": [],
   "source": [
    "server = 'DESKTOP-H1B23TT' \n",
    "database = 'ComponenteBGR' \n",
    "username = 'bgrcom' \n",
    "password = '12345678' "
   ]
  },
  {
   "cell_type": "code",
   "execution_count": 39,
   "id": "731cc9be",
   "metadata": {},
   "outputs": [],
   "source": [
    "conn = pyodbc.connect('DRIVER={SQL Server};SERVER='+server+';DATABASE='+database+';UID='+username+';PWD='+ password)\n",
    "cursor = conn.cursor()"
   ]
  },
  {
   "cell_type": "markdown",
   "id": "3b3a1fe9",
   "metadata": {},
   "source": [
    "##### Inserción de la data"
   ]
  },
  {
   "cell_type": "code",
   "execution_count": 48,
   "id": "0d6d1dc7",
   "metadata": {},
   "outputs": [],
   "source": [
    "for index, row in dfHardware.iterrows():\n",
    "     cursor.execute(\"INSERT INTO Hardware (NombreDispositivo,Version,idTipoHardware,fechaInicioSoporte,fechaFinSoporte,vidaUtil) values(?,?,?,?,?,?)\", \n",
    "                    row.NombreDispositivo, row.Version, row.idTipoHardware, \n",
    "                    row.fechaInicioSoporte, row.fechaFinSoporte, row.vidaUtil)\n",
    "cursor.commit()\n",
    "cursor.close()"
   ]
  },
  {
   "cell_type": "markdown",
   "id": "bc8c5315",
   "metadata": {},
   "source": [
    "##### Verificación de la inserción"
   ]
  },
  {
   "cell_type": "code",
   "execution_count": 50,
   "id": "ba231de3",
   "metadata": {},
   "outputs": [
    {
     "name": "stdout",
     "output_type": "stream",
     "text": [
      "(1, 'dispositivo 1', 1, 1, '1995-02-20', '2022-02-20', 4)\n",
      "(2, 'dispositivo 2', 2, 2, '1994-01-11', '2012-02-01', 5)\n",
      "(3, 'dispositivo 3', 3, 1, '1995-02-20', '2022-02-20', 4)\n",
      "(4, 'dispositivo 4', 4, 2, '1996-02-20', '2023-02-20', 5)\n",
      "(5, 'dispositivo 5', 5, 1, '1997-02-20', '2024-02-20', 6)\n",
      "(6, 'dispositivo 6', 6, 2, '1998-02-20', '2025-02-20', 7)\n",
      "(7, 'dispositivo 7', 7, 1, '1999-02-20', '2026-02-20', 8)\n",
      "(8, 'dispositivo 1', 3, 1, '1995-02-20', '2022-02-20', 4)\n",
      "(9, 'dispositivo 2', 4, 2, '1996-02-20', '2023-02-20', 5)\n",
      "(10, 'dispositivo 3', 5, 1, '1997-02-20', '2024-02-20', 6)\n",
      "(11, 'dispositivo 4', 6, 2, '1998-02-20', '2025-02-20', 7)\n",
      "(12, 'dispositivo 5', 7, 1, '1999-02-20', '2026-02-20', 8)\n"
     ]
    }
   ],
   "source": [
    "cursor = conn.cursor()\n",
    "cursor.execute('SELECT * FROM Hardware')\n",
    "for i in cursor:\n",
    "    print(i)"
   ]
  },
  {
   "cell_type": "code",
   "execution_count": null,
   "id": "5c5d4f1c",
   "metadata": {},
   "outputs": [],
   "source": []
  }
 ],
 "metadata": {
  "kernelspec": {
   "display_name": "Python 3",
   "language": "python",
   "name": "python3"
  },
  "language_info": {
   "codemirror_mode": {
    "name": "ipython",
    "version": 3
   },
   "file_extension": ".py",
   "mimetype": "text/x-python",
   "name": "python",
   "nbconvert_exporter": "python",
   "pygments_lexer": "ipython3",
   "version": "3.8.8"
  }
 },
 "nbformat": 4,
 "nbformat_minor": 5
}
